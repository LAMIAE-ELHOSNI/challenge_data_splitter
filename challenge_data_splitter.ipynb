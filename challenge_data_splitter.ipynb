{
 "cells": [
  {
   "cell_type": "code",
   "execution_count": 1,
   "metadata": {},
   "outputs": [],
   "source": [
    "import pandas as pd \n",
    "df=pd.read_csv('TV Shows.csv')"
   ]
  },
  {
   "cell_type": "code",
   "execution_count": 2,
   "metadata": {},
   "outputs": [],
   "source": [
    "import pyodbc\n",
    "\n",
    "def split_data(df, p1_percent=0.4, p2_percent=0.3, conn_str=None, db_table=None):\n",
    "    total_rows = df.shape[0]\n",
    "\n",
    "    part1 = int(total_rows * p1_percent)\n",
    "    part2 = int(total_rows * (p1_percent + p2_percent))\n",
    "\n",
    "    json_file = df.iloc[:part1]\n",
    "    csv_file = df.iloc[part1:part2]\n",
    "    db_table = df.iloc[part2:]\n",
    "\n",
    "    json_file.to_json('output.json', orient='records', lines=True)\n",
    "    csv_file.to_csv('output.csv', index=False, header=False)\n",
    "\n",
    "    if conn_str and db_table:\n",
    "        conn = pyodbc.connect(conn_str)\n",
    "        cursor = conn.cursor()\n",
    "\n",
    "        insert_query = f\"INSERT INTO {db_table} (Title, Year, Duration, Category, Score, Cast, Synopsis) VALUES ({', '.join(['?'] * 7)})\"\n",
    "        for _, row in db_table.iterrows():\n",
    "            cursor.execute(insert_query, tuple(row[['Title', 'Year', 'Duration', 'Category', 'Score', 'Cast', 'Synopsis']]))\n",
    "\n",
    "        conn.commit()\n",
    "        cursor.close()\n",
    "        conn.close()\n",
    "split_data(df, p1_percent=0.4, p2_percent=0.25, conn_str=\"Driver={SQL Server};Server=LAPTOP-5VUQJT8J\\\\SQLEXPRESS;Database=CHALLENGE;UID=;PWD=;\", db_table=\"Synopsis\")\n"
   ]
  }
 ],
 "metadata": {
  "kernelspec": {
   "display_name": "Python 3",
   "language": "python",
   "name": "python3"
  },
  "language_info": {
   "codemirror_mode": {
    "name": "ipython",
    "version": 3
   },
   "file_extension": ".py",
   "mimetype": "text/x-python",
   "name": "python",
   "nbconvert_exporter": "python",
   "pygments_lexer": "ipython3",
   "version": "3.11.3"
  },
  "orig_nbformat": 4
 },
 "nbformat": 4,
 "nbformat_minor": 2
}
